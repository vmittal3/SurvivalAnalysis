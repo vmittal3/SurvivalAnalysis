{
 "cells": [
  {
   "cell_type": "markdown",
   "metadata": {},
   "source": [
    "# DSc Assignment 4"
   ]
  },
  {
   "cell_type": "markdown",
   "metadata": {},
   "source": [
    "## Survival Analysis"
   ]
  },
  {
   "cell_type": "code",
   "execution_count": 2,
   "metadata": {},
   "outputs": [],
   "source": [
    "# Data taken from http://sphweb.bumc.bu.edu/otlt/MPH-Modules/BS/BS704_Survival/BS704_Survival_print.html"
   ]
  },
  {
   "cell_type": "code",
   "execution_count": 3,
   "metadata": {},
   "outputs": [],
   "source": [
    "import numpy as np\n",
    "import pandas as pd\n",
    "from matplotlib import pyplot as plt\n",
    "from random import sample"
   ]
  },
  {
   "cell_type": "code",
   "execution_count": 4,
   "metadata": {},
   "outputs": [],
   "source": [
    "time = [0, 1, 2, 3, 5, 6, 9, 10, 11, 12, 13, 14, 17, 18, 19, 21, 23, 24]\n",
    "nt =  [20, 20, 19, 18, 17, 16, 15, 14, 13, 12, 11, 10, 9, 7, 6, 5, 4, 3]\n",
    "dt = [0, 1, 0, 1, 1, 0, 0, 0, 0, 0, 0, 1, 1, 0, 0, 0, 1, 0]\n",
    "\n",
    "df = pd.DataFrame({'Time':time,\n",
    "                   'Number at Risk':nt,\n",
    "                   'Number of Deaths':dt})"
   ]
  },
  {
   "cell_type": "code",
   "execution_count": 5,
   "metadata": {},
   "outputs": [
    {
     "data": {
      "text/html": [
       "<div>\n",
       "<style scoped>\n",
       "    .dataframe tbody tr th:only-of-type {\n",
       "        vertical-align: middle;\n",
       "    }\n",
       "\n",
       "    .dataframe tbody tr th {\n",
       "        vertical-align: top;\n",
       "    }\n",
       "\n",
       "    .dataframe thead th {\n",
       "        text-align: right;\n",
       "    }\n",
       "</style>\n",
       "<table border=\"1\" class=\"dataframe\">\n",
       "  <thead>\n",
       "    <tr style=\"text-align: right;\">\n",
       "      <th></th>\n",
       "      <th>Time</th>\n",
       "      <th>Number at Risk</th>\n",
       "      <th>Number of Deaths</th>\n",
       "    </tr>\n",
       "  </thead>\n",
       "  <tbody>\n",
       "    <tr>\n",
       "      <th>0</th>\n",
       "      <td>0</td>\n",
       "      <td>20</td>\n",
       "      <td>0</td>\n",
       "    </tr>\n",
       "    <tr>\n",
       "      <th>1</th>\n",
       "      <td>1</td>\n",
       "      <td>20</td>\n",
       "      <td>1</td>\n",
       "    </tr>\n",
       "    <tr>\n",
       "      <th>2</th>\n",
       "      <td>2</td>\n",
       "      <td>19</td>\n",
       "      <td>0</td>\n",
       "    </tr>\n",
       "    <tr>\n",
       "      <th>3</th>\n",
       "      <td>3</td>\n",
       "      <td>18</td>\n",
       "      <td>1</td>\n",
       "    </tr>\n",
       "    <tr>\n",
       "      <th>4</th>\n",
       "      <td>5</td>\n",
       "      <td>17</td>\n",
       "      <td>1</td>\n",
       "    </tr>\n",
       "    <tr>\n",
       "      <th>5</th>\n",
       "      <td>6</td>\n",
       "      <td>16</td>\n",
       "      <td>0</td>\n",
       "    </tr>\n",
       "    <tr>\n",
       "      <th>6</th>\n",
       "      <td>9</td>\n",
       "      <td>15</td>\n",
       "      <td>0</td>\n",
       "    </tr>\n",
       "    <tr>\n",
       "      <th>7</th>\n",
       "      <td>10</td>\n",
       "      <td>14</td>\n",
       "      <td>0</td>\n",
       "    </tr>\n",
       "    <tr>\n",
       "      <th>8</th>\n",
       "      <td>11</td>\n",
       "      <td>13</td>\n",
       "      <td>0</td>\n",
       "    </tr>\n",
       "    <tr>\n",
       "      <th>9</th>\n",
       "      <td>12</td>\n",
       "      <td>12</td>\n",
       "      <td>0</td>\n",
       "    </tr>\n",
       "    <tr>\n",
       "      <th>10</th>\n",
       "      <td>13</td>\n",
       "      <td>11</td>\n",
       "      <td>0</td>\n",
       "    </tr>\n",
       "    <tr>\n",
       "      <th>11</th>\n",
       "      <td>14</td>\n",
       "      <td>10</td>\n",
       "      <td>1</td>\n",
       "    </tr>\n",
       "    <tr>\n",
       "      <th>12</th>\n",
       "      <td>17</td>\n",
       "      <td>9</td>\n",
       "      <td>1</td>\n",
       "    </tr>\n",
       "    <tr>\n",
       "      <th>13</th>\n",
       "      <td>18</td>\n",
       "      <td>7</td>\n",
       "      <td>0</td>\n",
       "    </tr>\n",
       "    <tr>\n",
       "      <th>14</th>\n",
       "      <td>19</td>\n",
       "      <td>6</td>\n",
       "      <td>0</td>\n",
       "    </tr>\n",
       "    <tr>\n",
       "      <th>15</th>\n",
       "      <td>21</td>\n",
       "      <td>5</td>\n",
       "      <td>0</td>\n",
       "    </tr>\n",
       "    <tr>\n",
       "      <th>16</th>\n",
       "      <td>23</td>\n",
       "      <td>4</td>\n",
       "      <td>1</td>\n",
       "    </tr>\n",
       "    <tr>\n",
       "      <th>17</th>\n",
       "      <td>24</td>\n",
       "      <td>3</td>\n",
       "      <td>0</td>\n",
       "    </tr>\n",
       "  </tbody>\n",
       "</table>\n",
       "</div>"
      ],
      "text/plain": [
       "    Time  Number at Risk  Number of Deaths\n",
       "0      0              20                 0\n",
       "1      1              20                 1\n",
       "2      2              19                 0\n",
       "3      3              18                 1\n",
       "4      5              17                 1\n",
       "5      6              16                 0\n",
       "6      9              15                 0\n",
       "7     10              14                 0\n",
       "8     11              13                 0\n",
       "9     12              12                 0\n",
       "10    13              11                 0\n",
       "11    14              10                 1\n",
       "12    17               9                 1\n",
       "13    18               7                 0\n",
       "14    19               6                 0\n",
       "15    21               5                 0\n",
       "16    23               4                 1\n",
       "17    24               3                 0"
      ]
     },
     "execution_count": 5,
     "metadata": {},
     "output_type": "execute_result"
    }
   ],
   "source": [
    "df"
   ]
  },
  {
   "cell_type": "markdown",
   "metadata": {},
   "source": [
    "$S_{t-1} = S_t * ((N_{t+1} - D_{t+1})/N_{t+1})$"
   ]
  },
  {
   "cell_type": "code",
   "execution_count": 6,
   "metadata": {},
   "outputs": [],
   "source": [
    "def survival(df):\n",
    "    # see formula above\n",
    "    surv = [1]\n",
    "    for i in range(1,df.shape[0]):\n",
    "        temp = surv[i-1] * ((df.iloc[i,1] - df.iloc[i,2])/ df.iloc[i,1])\n",
    "        surv.append(temp)\n",
    "    return surv"
   ]
  },
  {
   "cell_type": "code",
   "execution_count": 7,
   "metadata": {},
   "outputs": [],
   "source": [
    "surv = survival(df)"
   ]
  },
  {
   "cell_type": "code",
   "execution_count": 8,
   "metadata": {},
   "outputs": [
    {
     "data": {
      "text/plain": [
       "[1,\n",
       " 0.95,\n",
       " 0.95,\n",
       " 0.8972222222222221,\n",
       " 0.8444444444444443,\n",
       " 0.8444444444444443,\n",
       " 0.8444444444444443,\n",
       " 0.8444444444444443,\n",
       " 0.8444444444444443,\n",
       " 0.8444444444444443,\n",
       " 0.8444444444444443,\n",
       " 0.7599999999999999,\n",
       " 0.6755555555555555,\n",
       " 0.6755555555555555,\n",
       " 0.6755555555555555,\n",
       " 0.6755555555555555,\n",
       " 0.5066666666666666,\n",
       " 0.5066666666666666]"
      ]
     },
     "execution_count": 8,
     "metadata": {},
     "output_type": "execute_result"
    }
   ],
   "source": [
    "surv"
   ]
  },
  {
   "cell_type": "code",
   "execution_count": 9,
   "metadata": {},
   "outputs": [
    {
     "data": {
      "text/plain": [
       "<matplotlib.lines.Line2D at 0x1f6ba6a9cc0>"
      ]
     },
     "execution_count": 9,
     "metadata": {},
     "output_type": "execute_result"
    },
    {
     "data": {
      "image/png": "[encoded data removed]",
      "text/plain": [
       "<Figure size 432x288 with 1 Axes>"
      ]
     },
     "metadata": {
      "needs_background": "light"
     },
     "output_type": "display_data"
    }
   ],
   "source": [
    "plt.step(df[['Time']], surv, linestyle = '-', marker = 'o')\n",
    "plt.ylim([0,1.1])\n",
    "plt.xlim([0,25])\n",
    "plt.axhline(0.5,linestyle = '--')\n",
    "plt.axvline(23, linestyle = '--')"
   ]
  },
  {
   "cell_type": "code",
   "execution_count": 10,
   "metadata": {},
   "outputs": [],
   "source": [
    "# The median survival time is 23 years"
   ]
  },
  {
   "cell_type": "markdown",
   "metadata": {},
   "source": [
    "# Logrank Test"
   ]
  },
  {
   "cell_type": "code",
   "execution_count": 11,
   "metadata": {},
   "outputs": [],
   "source": [
    "# For the logrank test, we take two groups and compare their survival\n",
    "# data is again taken from the above mentioned link"
   ]
  },
  {
   "cell_type": "code",
   "execution_count": 12,
   "metadata": {},
   "outputs": [],
   "source": [
    "time = [8,12,14,21,26,27,28,33,41]\n",
    "n1t = [10,8,7,5,4,3,2,1,0]\n",
    "n2t = [10,10,10,10,8,8,8,7,5]\n",
    "nt = [20,18,17,15,12,11,10,8,5]\n",
    "o1t = [1,1,1,1,1,1,0,0,0]\n",
    "o2t = [0,0,0,0,0,0,1,1,1]\n",
    "ot = [1,1,1,1,1,1,1,1,1]\n",
    "\n",
    "lr_df = pd.DataFrame({'Time':time,\n",
    "                     'Number_atRisk_Grp1':n1t,\n",
    "                     'Number_atRisk_Grp2':n2t,\n",
    "                     'Total_Number_atRisk':nt,\n",
    "                     'Number_ofEvents_Grp1':o1t,\n",
    "                     'Number_ofEvents_Grp2':o2t,\n",
    "                     'Total_Number_ofEvents':ot})"
   ]
  },
  {
   "cell_type": "code",
   "execution_count": 13,
   "metadata": {},
   "outputs": [
    {
     "data": {
      "text/html": [
       "<div>\n",
       "<style scoped>\n",
       "    .dataframe tbody tr th:only-of-type {\n",
       "        vertical-align: middle;\n",
       "    }\n",
       "\n",
       "    .dataframe tbody tr th {\n",
       "        vertical-align: top;\n",
       "    }\n",
       "\n",
       "    .dataframe thead th {\n",
       "        text-align: right;\n",
       "    }\n",
       "</style>\n",
       "<table border=\"1\" class=\"dataframe\">\n",
       "  <thead>\n",
       "    <tr style=\"text-align: right;\">\n",
       "      <th></th>\n",
       "      <th>Time</th>\n",
       "      <th>Number_atRisk_Grp1</th>\n",
       "      <th>Number_atRisk_Grp2</th>\n",
       "      <th>Total_Number_atRisk</th>\n",
       "      <th>Number_ofEvents_Grp1</th>\n",
       "      <th>Number_ofEvents_Grp2</th>\n",
       "      <th>Total_Number_ofEvents</th>\n",
       "    </tr>\n",
       "  </thead>\n",
       "  <tbody>\n",
       "    <tr>\n",
       "      <th>0</th>\n",
       "      <td>8</td>\n",
       "      <td>10</td>\n",
       "      <td>10</td>\n",
       "      <td>20</td>\n",
       "      <td>1</td>\n",
       "      <td>0</td>\n",
       "      <td>1</td>\n",
       "    </tr>\n",
       "    <tr>\n",
       "      <th>1</th>\n",
       "      <td>12</td>\n",
       "      <td>8</td>\n",
       "      <td>10</td>\n",
       "      <td>18</td>\n",
       "      <td>1</td>\n",
       "      <td>0</td>\n",
       "      <td>1</td>\n",
       "    </tr>\n",
       "    <tr>\n",
       "      <th>2</th>\n",
       "      <td>14</td>\n",
       "      <td>7</td>\n",
       "      <td>10</td>\n",
       "      <td>17</td>\n",
       "      <td>1</td>\n",
       "      <td>0</td>\n",
       "      <td>1</td>\n",
       "    </tr>\n",
       "    <tr>\n",
       "      <th>3</th>\n",
       "      <td>21</td>\n",
       "      <td>5</td>\n",
       "      <td>10</td>\n",
       "      <td>15</td>\n",
       "      <td>1</td>\n",
       "      <td>0</td>\n",
       "      <td>1</td>\n",
       "    </tr>\n",
       "    <tr>\n",
       "      <th>4</th>\n",
       "      <td>26</td>\n",
       "      <td>4</td>\n",
       "      <td>8</td>\n",
       "      <td>12</td>\n",
       "      <td>1</td>\n",
       "      <td>0</td>\n",
       "      <td>1</td>\n",
       "    </tr>\n",
       "    <tr>\n",
       "      <th>5</th>\n",
       "      <td>27</td>\n",
       "      <td>3</td>\n",
       "      <td>8</td>\n",
       "      <td>11</td>\n",
       "      <td>1</td>\n",
       "      <td>0</td>\n",
       "      <td>1</td>\n",
       "    </tr>\n",
       "    <tr>\n",
       "      <th>6</th>\n",
       "      <td>28</td>\n",
       "      <td>2</td>\n",
       "      <td>8</td>\n",
       "      <td>10</td>\n",
       "      <td>0</td>\n",
       "      <td>1</td>\n",
       "      <td>1</td>\n",
       "    </tr>\n",
       "    <tr>\n",
       "      <th>7</th>\n",
       "      <td>33</td>\n",
       "      <td>1</td>\n",
       "      <td>7</td>\n",
       "      <td>8</td>\n",
       "      <td>0</td>\n",
       "      <td>1</td>\n",
       "      <td>1</td>\n",
       "    </tr>\n",
       "    <tr>\n",
       "      <th>8</th>\n",
       "      <td>41</td>\n",
       "      <td>0</td>\n",
       "      <td>5</td>\n",
       "      <td>5</td>\n",
       "      <td>0</td>\n",
       "      <td>1</td>\n",
       "      <td>1</td>\n",
       "    </tr>\n",
       "  </tbody>\n",
       "</table>\n",
       "</div>"
      ],
      "text/plain": [
       "   Time  Number_atRisk_Grp1  Number_atRisk_Grp2  Total_Number_atRisk  \\\n",
       "0     8                  10                  10                   20   \n",
       "1    12                   8                  10                   18   \n",
       "2    14                   7                  10                   17   \n",
       "3    21                   5                  10                   15   \n",
       "4    26                   4                   8                   12   \n",
       "5    27                   3                   8                   11   \n",
       "6    28                   2                   8                   10   \n",
       "7    33                   1                   7                    8   \n",
       "8    41                   0                   5                    5   \n",
       "\n",
       "   Number_ofEvents_Grp1  Number_ofEvents_Grp2  Total_Number_ofEvents  \n",
       "0                     1                     0                      1  \n",
       "1                     1                     0                      1  \n",
       "2                     1                     0                      1  \n",
       "3                     1                     0                      1  \n",
       "4                     1                     0                      1  \n",
       "5                     1                     0                      1  \n",
       "6                     0                     1                      1  \n",
       "7                     0                     1                      1  \n",
       "8                     0                     1                      1  "
      ]
     },
     "execution_count": 13,
     "metadata": {},
     "output_type": "execute_result"
    }
   ],
   "source": [
    "lr_df"
   ]
  },
  {
   "cell_type": "markdown",
   "metadata": {},
   "source": [
    "$E_{1t} = N_{1t} * (O_t/N_t)$"
   ]
  },
  {
   "cell_type": "code",
   "execution_count": 14,
   "metadata": {},
   "outputs": [],
   "source": [
    "e1t = []\n",
    "e2t = []\n",
    "for i in range(lr_df.shape[0]):\n",
    "    e1t.append(n1t[i]*(ot[i]/nt[i]))\n",
    "    e2t.append(n2t[i]*(ot[i]/nt[i]))"
   ]
  },
  {
   "cell_type": "markdown",
   "metadata": {},
   "source": [
    "$\\chi^2 = \\sum \\frac{(\\sum O_{jt} - \\sum E_{jt})^2}{\\sum E_{jt}}$"
   ]
  },
  {
   "cell_type": "code",
   "execution_count": 15,
   "metadata": {},
   "outputs": [],
   "source": [
    "def logrank(df, exp1, exp2):\n",
    "    ojt = sum(df['Number_ofEvents_Grp1'].tolist())\n",
    "    ojt2 = sum(df['Number_ofEvents_Grp2'].tolist())\n",
    "    e1t = sum(exp1)\n",
    "    e2t = sum(exp2)\n",
    "    temp = [((ojt - e1t)**2)/(e1t),((ojt2 - e2t)**2)/(e2t)]\n",
    "    return sum(temp)"
   ]
  },
  {
   "cell_type": "code",
   "execution_count": 16,
   "metadata": {},
   "outputs": [
    {
     "data": {
      "text/plain": [
       "6.148087536256202"
      ]
     },
     "execution_count": 16,
     "metadata": {},
     "output_type": "execute_result"
    }
   ],
   "source": [
    "logrank(lr_df, e1t, e2t)"
   ]
  },
  {
   "cell_type": "markdown",
   "metadata": {},
   "source": [
    "We now need the critical value of the $\\chi^2$ distribution at $\\alpha$ = 0.05.<br>\n",
    "Tabular $\\chi^2_{0.05}$ = 3.841<br>\n",
    "Since the calculated value is higher than the tabular value, <br>\n",
    "we reject the null hypothesis that there is no difference in the two groups."
   ]
  },
  {
   "cell_type": "code",
   "execution_count": 17,
   "metadata": {},
   "outputs": [],
   "source": [
    "new_df = pd.DataFrame({'Time':lr_df.iloc[:,0],\n",
    "                      'At_risk':lr_df.iloc[:,2],\n",
    "                      'Death':lr_df.iloc[:,5]})"
   ]
  },
  {
   "cell_type": "code",
   "execution_count": 18,
   "metadata": {},
   "outputs": [
    {
     "data": {
      "text/plain": [
       "[1, 1.0, 1.0, 1.0, 1.0, 1.0, 0.875, 0.75, 0.6000000000000001]"
      ]
     },
     "execution_count": 18,
     "metadata": {},
     "output_type": "execute_result"
    }
   ],
   "source": [
    "survival(new_df)"
   ]
  },
  {
   "cell_type": "code",
   "execution_count": 19,
   "metadata": {},
   "outputs": [
    {
     "data": {
      "text/html": [
       "<div>\n",
       "<style scoped>\n",
       "    .dataframe tbody tr th:only-of-type {\n",
       "        vertical-align: middle;\n",
       "    }\n",
       "\n",
       "    .dataframe tbody tr th {\n",
       "        vertical-align: top;\n",
       "    }\n",
       "\n",
       "    .dataframe thead th {\n",
       "        text-align: right;\n",
       "    }\n",
       "</style>\n",
       "<table border=\"1\" class=\"dataframe\">\n",
       "  <thead>\n",
       "    <tr style=\"text-align: right;\">\n",
       "      <th></th>\n",
       "      <th>Time</th>\n",
       "      <th>At_risk</th>\n",
       "      <th>Death</th>\n",
       "    </tr>\n",
       "  </thead>\n",
       "  <tbody>\n",
       "    <tr>\n",
       "      <th>0</th>\n",
       "      <td>8</td>\n",
       "      <td>10</td>\n",
       "      <td>0</td>\n",
       "    </tr>\n",
       "    <tr>\n",
       "      <th>1</th>\n",
       "      <td>12</td>\n",
       "      <td>10</td>\n",
       "      <td>0</td>\n",
       "    </tr>\n",
       "    <tr>\n",
       "      <th>2</th>\n",
       "      <td>14</td>\n",
       "      <td>10</td>\n",
       "      <td>0</td>\n",
       "    </tr>\n",
       "    <tr>\n",
       "      <th>3</th>\n",
       "      <td>21</td>\n",
       "      <td>10</td>\n",
       "      <td>0</td>\n",
       "    </tr>\n",
       "    <tr>\n",
       "      <th>4</th>\n",
       "      <td>26</td>\n",
       "      <td>8</td>\n",
       "      <td>0</td>\n",
       "    </tr>\n",
       "    <tr>\n",
       "      <th>5</th>\n",
       "      <td>27</td>\n",
       "      <td>8</td>\n",
       "      <td>0</td>\n",
       "    </tr>\n",
       "    <tr>\n",
       "      <th>6</th>\n",
       "      <td>28</td>\n",
       "      <td>8</td>\n",
       "      <td>1</td>\n",
       "    </tr>\n",
       "    <tr>\n",
       "      <th>7</th>\n",
       "      <td>33</td>\n",
       "      <td>7</td>\n",
       "      <td>1</td>\n",
       "    </tr>\n",
       "    <tr>\n",
       "      <th>8</th>\n",
       "      <td>41</td>\n",
       "      <td>5</td>\n",
       "      <td>1</td>\n",
       "    </tr>\n",
       "  </tbody>\n",
       "</table>\n",
       "</div>"
      ],
      "text/plain": [
       "   Time  At_risk  Death\n",
       "0     8       10      0\n",
       "1    12       10      0\n",
       "2    14       10      0\n",
       "3    21       10      0\n",
       "4    26        8      0\n",
       "5    27        8      0\n",
       "6    28        8      1\n",
       "7    33        7      1\n",
       "8    41        5      1"
      ]
     },
     "execution_count": 19,
     "metadata": {},
     "output_type": "execute_result"
    }
   ],
   "source": [
    "new_df"
   ]
  },
  {
   "cell_type": "code",
   "execution_count": 21,
   "metadata": {},
   "outputs": [
    {
     "data": {
      "text/plain": [
       "(0, 1.1)"
      ]
     },
     "execution_count": 21,
     "metadata": {},
     "output_type": "execute_result"
    },
    {
     "data": {
      "image/png": "[encoded data removed]",
      "text/plain": [
       "<Figure size 432x288 with 1 Axes>"
      ]
     },
     "metadata": {
      "needs_background": "light"
     },
     "output_type": "display_data"
    }
   ],
   "source": [
    "plt.step(new_df.iloc[:,0], survival(new_df), linestyle = '-', marker = 'o')\n",
    "plt.xlim([8,42])\n",
    "plt.ylim([0,1.1])"
   ]
  },
  {
   "cell_type": "code",
   "execution_count": 22,
   "metadata": {},
   "outputs": [],
   "source": [
    "# We never reach the median value for this dataset, we may assume it as\n",
    "# the value at 0.6, that is 41 years."
   ]
  },
  {
   "cell_type": "markdown",
   "metadata": {},
   "source": [
    "# Ques 2"
   ]
  },
  {
   "cell_type": "markdown",
   "metadata": {},
   "source": [
    "Simulating data from an exponential distribution <br>\n",
    "$f(x; \\frac{1}{\\beta}) = \\frac{1}{\\beta} \\exp(-\\frac{x}{\\beta})$ <br>\n",
    "Taken from numpy's page"
   ]
  },
  {
   "cell_type": "code",
   "execution_count": 56,
   "metadata": {},
   "outputs": [],
   "source": [
    "# lambda = 2\n",
    "data1 = np.random.exponential(scale = 0.5, size = 200).tolist()\n",
    "# lambda = 4\n",
    "data2 = np.random.exponential(scale = 0.25, size = 200).tolist()"
   ]
  },
  {
   "cell_type": "code",
   "execution_count": 57,
   "metadata": {},
   "outputs": [
    {
     "data": {
      "text/plain": [
       "(array([71., 52., 30., 16., 12., 11.,  3.,  1.,  2.,  2.]),\n",
       " array([1.86068052e-03, 2.33623903e-01, 4.65387125e-01, 6.97150347e-01,\n",
       "        9.28913569e-01, 1.16067679e+00, 1.39244001e+00, 1.62420324e+00,\n",
       "        1.85596646e+00, 2.08772968e+00, 2.31949290e+00]),\n",
       " <a list of 10 Patch objects>)"
      ]
     },
     "execution_count": 57,
     "metadata": {},
     "output_type": "execute_result"
    },
    {
     "data": {
      "image/png": "[encoded data removed]",
      "text/plain": [
       "<Figure size 432x288 with 1 Axes>"
      ]
     },
     "metadata": {
      "needs_background": "light"
     },
     "output_type": "display_data"
    }
   ],
   "source": [
    "plt.hist(data1)"
   ]
  },
  {
   "cell_type": "code",
   "execution_count": 58,
   "metadata": {},
   "outputs": [
    {
     "data": {
      "text/plain": [
       "(array([76., 43., 26., 24., 15.,  4.,  7.,  1.,  2.,  2.]),\n",
       " array([0.00177864, 0.12328252, 0.24478639, 0.36629026, 0.48779413,\n",
       "        0.609298  , 0.73080187, 0.85230574, 0.97380961, 1.09531348,\n",
       "        1.21681735]),\n",
       " <a list of 10 Patch objects>)"
      ]
     },
     "execution_count": 58,
     "metadata": {},
     "output_type": "execute_result"
    },
    {
     "data": {
      "image/png": "[encoded data removed]",
      "text/plain": [
       "<Figure size 432x288 with 1 Axes>"
      ]
     },
     "metadata": {
      "needs_background": "light"
     },
     "output_type": "display_data"
    }
   ],
   "source": [
    "plt.hist(data2)"
   ]
  },
  {
   "cell_type": "code",
   "execution_count": 59,
   "metadata": {},
   "outputs": [],
   "source": [
    "# censoring with a probability of 10%\n",
    "censor1 = np.random.choice(2, size = 100, p = [0.9,0.1]).tolist()\n",
    "censor2 = np.random.choice(2, size = 100, p = [0.9, 0.1]).tolist()"
   ]
  },
  {
   "cell_type": "code",
   "execution_count": 60,
   "metadata": {},
   "outputs": [],
   "source": [
    "int_data1 = [int(x*1000) for x in data1]\n",
    "int_data2 = [int(x*1000) for x in data2]"
   ]
  },
  {
   "cell_type": "code",
   "execution_count": 61,
   "metadata": {},
   "outputs": [],
   "source": [
    "set1 = set(sorted(int_data1))\n",
    "set2 = set(sorted(int_data2))"
   ]
  },
  {
   "cell_type": "code",
   "execution_count": 62,
   "metadata": {},
   "outputs": [],
   "source": [
    "sample1 = sorted(sample(list(set1), 100))\n",
    "sample2 = sorted(sample(list(set2), 100))"
   ]
  },
  {
   "cell_type": "code",
   "execution_count": 63,
   "metadata": {},
   "outputs": [],
   "source": [
    "# deaths\n",
    "death1 = np.random.choice(2, size = 100, p = [0.3, 0.7]).tolist()\n",
    "death2 = np.random.choice(2, size = 100, p = [0.3, 0.7]).tolist()"
   ]
  },
  {
   "cell_type": "code",
   "execution_count": 64,
   "metadata": {},
   "outputs": [],
   "source": [
    "mera_df = pd.DataFrame({'Time':sample1,\n",
    "                        'Risk1':[100 for _ in range(100)],\n",
    "                       'Death1':death1,\n",
    "                       'Censor1':censor1})\n",
    "mera_df2 = pd.DataFrame({'Time':sample2,\n",
    "                        'Risk2':[100 for _ in range(100)],\n",
    "                       'Death2':death2,\n",
    "                       'Censor2':censor2})"
   ]
  },
  {
   "cell_type": "markdown",
   "metadata": {},
   "source": [
    "$N_{t+1} = N_t - D_t - C_t$"
   ]
  },
  {
   "cell_type": "code",
   "execution_count": 65,
   "metadata": {},
   "outputs": [],
   "source": [
    "for i in range(1,mera_df.shape[0]):\n",
    "    mera_df.iloc[i,1] = mera_df.iloc[i-1,1] - mera_df.iloc[i-1,2] - mera_df.iloc[i-1,3]\n",
    "for i in range(1,mera_df2.shape[0]):\n",
    "    mera_df2.iloc[i,1] = mera_df2.iloc[i-1,1] - mera_df2.iloc[i-1,2] - mera_df2.iloc[i-1,3]"
   ]
  },
  {
   "cell_type": "code",
   "execution_count": 66,
   "metadata": {},
   "outputs": [],
   "source": [
    "mera_df.iloc[99,3] = mera_df.iloc[99,1]\n",
    "mera_df2.iloc[99,3] = mera_df2.iloc[99,1]"
   ]
  },
  {
   "cell_type": "code",
   "execution_count": 70,
   "metadata": {},
   "outputs": [],
   "source": [
    "surv1 = survival(mera_df)\n",
    "surv2 = survival(mera_df2)"
   ]
  },
  {
   "cell_type": "code",
   "execution_count": 71,
   "metadata": {},
   "outputs": [
    {
     "data": {
      "text/plain": [
       "(0, 2681)"
      ]
     },
     "execution_count": 71,
     "metadata": {},
     "output_type": "execute_result"
    },
    {
     "data": {
      "image/png": "[encoded data removed]",
      "text/plain": [
       "<Figure size 432x288 with 1 Axes>"
      ]
     },
     "metadata": {
      "needs_background": "light"
     },
     "output_type": "display_data"
    }
   ],
   "source": [
    "plt.step(mera_df.iloc[:,0], surv1, linestyle = '-', marker = '|')\n",
    "plt.step(mera_df2.iloc[:,0], surv2, linestyle = '-', marker = '|', color = 'red')\n",
    "plt.axhline(0.5, linestyle = '--', color = 'black')\n",
    "plt.ylim([0,1.1])\n",
    "plt.xlim([0, 2681])"
   ]
  },
  {
   "cell_type": "code",
   "execution_count": 39,
   "metadata": {},
   "outputs": [],
   "source": [
    "#surv1.index( 0.505895437823829)"
   ]
  },
  {
   "cell_type": "code",
   "execution_count": 40,
   "metadata": {},
   "outputs": [],
   "source": [
    "#surv2.index( 0.5098612291287132)"
   ]
  },
  {
   "cell_type": "code",
   "execution_count": 41,
   "metadata": {},
   "outputs": [
    {
     "data": {
      "text/plain": [
       "Time       1259\n",
       "Risk1        28\n",
       "Death1        1\n",
       "Censor1       0\n",
       "Name: 92, dtype: int64"
      ]
     },
     "execution_count": 41,
     "metadata": {},
     "output_type": "execute_result"
    }
   ],
   "source": [
    "mera_df.iloc[92,:]"
   ]
  },
  {
   "cell_type": "code",
   "execution_count": 42,
   "metadata": {},
   "outputs": [
    {
     "data": {
      "text/plain": [
       "Time       355\n",
       "Risk2       44\n",
       "Death2       0\n",
       "Censor2      0\n",
       "Name: 70, dtype: int64"
      ]
     },
     "execution_count": 42,
     "metadata": {},
     "output_type": "execute_result"
    }
   ],
   "source": [
    "mera_df2.iloc[70,:]"
   ]
  },
  {
   "cell_type": "code",
   "execution_count": 43,
   "metadata": {},
   "outputs": [],
   "source": [
    "# For choice of stochastic parameters -\n",
    "# The median survival for group 1 is 1287 units\n",
    "# The median survival for group 2 is 286 units."
   ]
  },
  {
   "cell_type": "code",
   "execution_count": 44,
   "metadata": {},
   "outputs": [],
   "source": [
    "# Logrank test"
   ]
  },
  {
   "cell_type": "code",
   "execution_count": 45,
   "metadata": {},
   "outputs": [
    {
     "data": {
      "text/html": [
       "<div>\n",
       "<style scoped>\n",
       "    .dataframe tbody tr th:only-of-type {\n",
       "        vertical-align: middle;\n",
       "    }\n",
       "\n",
       "    .dataframe tbody tr th {\n",
       "        vertical-align: top;\n",
       "    }\n",
       "\n",
       "    .dataframe thead th {\n",
       "        text-align: right;\n",
       "    }\n",
       "</style>\n",
       "<table border=\"1\" class=\"dataframe\">\n",
       "  <thead>\n",
       "    <tr style=\"text-align: right;\">\n",
       "      <th></th>\n",
       "      <th>Time</th>\n",
       "      <th>Risk1</th>\n",
       "      <th>Death1</th>\n",
       "      <th>Censor1</th>\n",
       "    </tr>\n",
       "  </thead>\n",
       "  <tbody>\n",
       "    <tr>\n",
       "      <th>1</th>\n",
       "      <td>12</td>\n",
       "      <td>99</td>\n",
       "      <td>0</td>\n",
       "      <td>0</td>\n",
       "    </tr>\n",
       "    <tr>\n",
       "      <th>2</th>\n",
       "      <td>18</td>\n",
       "      <td>99</td>\n",
       "      <td>1</td>\n",
       "      <td>0</td>\n",
       "    </tr>\n",
       "    <tr>\n",
       "      <th>3</th>\n",
       "      <td>31</td>\n",
       "      <td>98</td>\n",
       "      <td>1</td>\n",
       "      <td>0</td>\n",
       "    </tr>\n",
       "    <tr>\n",
       "      <th>4</th>\n",
       "      <td>32</td>\n",
       "      <td>97</td>\n",
       "      <td>1</td>\n",
       "      <td>0</td>\n",
       "    </tr>\n",
       "  </tbody>\n",
       "</table>\n",
       "</div>"
      ],
      "text/plain": [
       "   Time  Risk1  Death1  Censor1\n",
       "1    12     99       0        0\n",
       "2    18     99       1        0\n",
       "3    31     98       1        0\n",
       "4    32     97       1        0"
      ]
     },
     "execution_count": 45,
     "metadata": {},
     "output_type": "execute_result"
    }
   ],
   "source": [
    "mera_df.iloc[1:5,:]"
   ]
  },
  {
   "cell_type": "code",
   "execution_count": 46,
   "metadata": {},
   "outputs": [
    {
     "data": {
      "text/html": [
       "<div>\n",
       "<style scoped>\n",
       "    .dataframe tbody tr th:only-of-type {\n",
       "        vertical-align: middle;\n",
       "    }\n",
       "\n",
       "    .dataframe tbody tr th {\n",
       "        vertical-align: top;\n",
       "    }\n",
       "\n",
       "    .dataframe thead th {\n",
       "        text-align: right;\n",
       "    }\n",
       "</style>\n",
       "<table border=\"1\" class=\"dataframe\">\n",
       "  <thead>\n",
       "    <tr style=\"text-align: right;\">\n",
       "      <th></th>\n",
       "      <th>Time</th>\n",
       "      <th>Risk2</th>\n",
       "      <th>Death2</th>\n",
       "      <th>Censor2</th>\n",
       "    </tr>\n",
       "  </thead>\n",
       "  <tbody>\n",
       "    <tr>\n",
       "      <th>1</th>\n",
       "      <td>3</td>\n",
       "      <td>99</td>\n",
       "      <td>0</td>\n",
       "      <td>0</td>\n",
       "    </tr>\n",
       "    <tr>\n",
       "      <th>2</th>\n",
       "      <td>4</td>\n",
       "      <td>99</td>\n",
       "      <td>1</td>\n",
       "      <td>1</td>\n",
       "    </tr>\n",
       "    <tr>\n",
       "      <th>3</th>\n",
       "      <td>9</td>\n",
       "      <td>97</td>\n",
       "      <td>1</td>\n",
       "      <td>0</td>\n",
       "    </tr>\n",
       "    <tr>\n",
       "      <th>4</th>\n",
       "      <td>11</td>\n",
       "      <td>96</td>\n",
       "      <td>1</td>\n",
       "      <td>0</td>\n",
       "    </tr>\n",
       "  </tbody>\n",
       "</table>\n",
       "</div>"
      ],
      "text/plain": [
       "   Time  Risk2  Death2  Censor2\n",
       "1     3     99       0        0\n",
       "2     4     99       1        1\n",
       "3     9     97       1        0\n",
       "4    11     96       1        0"
      ]
     },
     "execution_count": 46,
     "metadata": {},
     "output_type": "execute_result"
    }
   ],
   "source": [
    "mera_df2.iloc[1:5,:]"
   ]
  },
  {
   "cell_type": "code",
   "execution_count": 47,
   "metadata": {},
   "outputs": [
    {
     "data": {
      "text/plain": [
       "6.148087536256202"
      ]
     },
     "execution_count": 47,
     "metadata": {},
     "output_type": "execute_result"
    }
   ],
   "source": [
    "e1t = []\n",
    "e2t = []\n",
    "for i in range(lr_df.shape[0]):\n",
    "    e1t.append(n1t[i]*(ot[i]/nt[i]))\n",
    "    e2t.append(n2t[i]*(ot[i]/nt[i]))\n",
    "    \n",
    "def logrank(df, exp1, exp2):\n",
    "    ojt = sum(df['Number_ofEvents_Grp1'].tolist())\n",
    "    ojt2 = sum(df['Number_ofEvents_Grp2'].tolist())\n",
    "    e1t = sum(exp1)\n",
    "    e2t = sum(exp2)\n",
    "    temp = [((ojt - e1t)**2)/(e1t),((ojt2 - e2t)**2)/(e2t)]\n",
    "    return sum(temp)\n",
    "\n",
    "logrank(lr_df, e1t, e2t)"
   ]
  },
  {
   "cell_type": "code",
   "execution_count": 51,
   "metadata": {},
   "outputs": [],
   "source": [
    "e1t = []\n",
    "e2t = []\n",
    "for i in range(mera_df.shape[0]):\n",
    "    e1t.append(mera_df.iloc[i,1] * ((mera_df.iloc[i,2]+mera_df2.iloc[i,2])/(mera_df.iloc[i,1]+mera_df2.iloc[i,1])))\n",
    "    e2t.append(mera_df2.iloc[i,1] * ((mera_df.iloc[i,2]+mera_df2.iloc[i,2])/(mera_df.iloc[i,1]+mera_df2.iloc[i,1])))"
   ]
  },
  {
   "cell_type": "code",
   "execution_count": 52,
   "metadata": {},
   "outputs": [],
   "source": [
    "def logrank2(mera_df, mera_df2, exp1, exp2):\n",
    "    ojt = sum(mera_df['Death1'].tolist() + mera_df['Censor1'].tolist())\n",
    "    ojt2 = sum(mera_df2['Death2'].tolist() + mera_df2['Censor2'].tolist())\n",
    "    e1t = sum(exp1)\n",
    "    e2t = sum(exp2)\n",
    "    temp = [((ojt - e1t)**2)/(e1t),((ojt2 - e2t)**2)/(e2t)]\n",
    "    return sum(temp)"
   ]
  },
  {
   "cell_type": "code",
   "execution_count": 53,
   "metadata": {},
   "outputs": [
    {
     "data": {
      "text/plain": [
       "24.375952598006688"
      ]
     },
     "execution_count": 53,
     "metadata": {},
     "output_type": "execute_result"
    }
   ],
   "source": [
    "logrank2(mera_df, mera_df2, e1t, e2t)"
   ]
  },
  {
   "cell_type": "markdown",
   "metadata": {},
   "source": [
    "We now need the critical value of the $\\chi^2$ distribution at $\\alpha$ = 0.05.<br>\n",
    "Tabular $\\chi^2_{0.05}$ = 3.841<br>\n",
    "Since the calculated value is higher than the tabular value, <br>\n",
    "We reject the null hypothesis that there is no difference in the two groups."
   ]
  }
 ],
 "metadata": {
  "kernelspec": {
   "display_name": "Python 3",
   "language": "python",
   "name": "python3"
  },
  "language_info": {
   "codemirror_mode": {
    "name": "ipython",
    "version": 3
   },
   "file_extension": ".py",
   "mimetype": "text/x-python",
   "name": "python",
   "nbconvert_exporter": "python",
   "pygments_lexer": "ipython3",
   "version": "3.7.1"
  }
 },
 "nbformat": 4,
 "nbformat_minor": 2
}
